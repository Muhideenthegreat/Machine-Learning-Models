{
 "cells": [
  {
   "cell_type": "code",
   "execution_count": 3,
   "id": "9c2f6181",
   "metadata": {},
   "outputs": [
    {
     "name": "stdout",
     "output_type": "stream",
     "text": [
      "b'Hello, TensorFlow!'\n"
     ]
    }
   ],
   "source": [
    "import tensorflow as tf # When we import TensorFlow, a default graph is made\n",
    "\n",
    "hello = tf.constant(\"Hello, TensorFlow!\") # Add a constant-operation to the (default) graph\n",
    "\n",
    "print(hello.numpy())\n"
   ]
  },
  {
   "cell_type": "code",
   "execution_count": 4,
   "id": "9e08c752",
   "metadata": {},
   "outputs": [
    {
     "name": "stdout",
     "output_type": "stream",
     "text": [
      "7.0\n"
     ]
    }
   ],
   "source": [
    "a = tf.constant(3.0)\n",
    "b = tf.constant(4.0)\n",
    "sum = tf.add(a,b)\n",
    "\n",
    "print(sum.numpy())"
   ]
  },
  {
   "cell_type": "code",
   "execution_count": 8,
   "id": "7ae1ded0",
   "metadata": {},
   "outputs": [
    {
     "name": "stdout",
     "output_type": "stream",
     "text": [
      "[[13]\n",
      " [11]]\n"
     ]
    }
   ],
   "source": [
    "x = tf.constant([[1,6],[3,4]])\n",
    "y = tf.constant([[1],[2]])\n",
    "\n",
    "product = tf.matmul(x,y)\n",
    "print(product.numpy())"
   ]
  },
  {
   "cell_type": "code",
   "execution_count": 8,
   "id": "9c6c39e1",
   "metadata": {},
   "outputs": [
    {
     "name": "stdout",
     "output_type": "stream",
     "text": [
      "x is [[1.0], [2.0]]:\n",
      "[[11.]\n",
      " [17.]]\n",
      "x is [[2.0], [4.0]]:\n",
      "[[22.]\n",
      " [34.]]\n"
     ]
    }
   ],
   "source": [
    "import tensorflow as tf\n",
    "import numpy as np\n",
    "\n",
    "x = tf.constant([[1.0], [2.0]], dtype=tf.float32)\n",
    "W = tf.constant([[3.0, 4.0], [5.0, 6.0]], dtype=tf.float32)\n",
    "y = tf.matmul(W, x)\n",
    "\n",
    "print(\"x is [[1.0], [2.0]]:\")\n",
    "print(y.numpy())\n",
    "\n",
    "x = tf.constant([[2.0], [4.0]], dtype=tf.float32)\n",
    "y = tf.matmul(W, x)\n",
    "\n",
    "print(\"x is [[2.0], [4.0]]:\")\n",
    "print(y.numpy())\n"
   ]
  },
  {
   "cell_type": "code",
   "execution_count": 18,
   "id": "5914e615",
   "metadata": {},
   "outputs": [
    {
     "name": "stdout",
     "output_type": "stream",
     "text": [
      "The random matrix is:\n",
      " \n",
      "[[ 0.2614007  -1.379482  ]\n",
      " [-1.3887718  -0.45864195]]\n",
      "The product matrix is:\n",
      "\n",
      "[[-2.4975634]\n",
      " [-2.3060555]]\n"
     ]
    }
   ],
   "source": [
    "x = tf.constant([[1.0],[2.0]], dtype = tf.float32)\n",
    "rand = tf.random.normal(shape = [2,2])\n",
    "y = tf.Variable(rand)\n",
    "z = tf.matmul(y, x)\n",
    "\n",
    "print(\"The random matrix is:\\n \")\n",
    "print(y.numpy())\n",
    "\n",
    "print(\"The product matrix is:\\n\")\n",
    "print(z.numpy())"
   ]
  },
  {
   "cell_type": "code",
   "execution_count": 22,
   "id": "5326cfd3",
   "metadata": {},
   "outputs": [
    {
     "name": "stdout",
     "output_type": "stream",
     "text": [
      "[[-1.4426864   0.5026594 ]\n",
      " [-1.0265445  -0.24603954]]\n",
      "[[-0.43736768]\n",
      " [-1.5186236 ]]\n"
     ]
    }
   ],
   "source": [
    "x = tf.constant([[1.0],[2.0]])\n",
    "y = tf.Variable(tf.random.normal(shape = [2,2])) # we initialize y with the random variable instead\n",
    "z = tf.matmul(y, x)\n",
    "\n",
    "print(\"Random values initialized to y:\\n\")\n",
    "print(y.numpy())\n",
    "print(\"Product matrix:\\n\")\n",
    "print(z.numpy())"
   ]
  },
  {
   "cell_type": "code",
   "execution_count": null,
   "id": "ab581225",
   "metadata": {},
   "outputs": [],
   "source": []
  }
 ],
 "metadata": {
  "kernelspec": {
   "display_name": "Python 3 (ipykernel)",
   "language": "python",
   "name": "python3"
  },
  "language_info": {
   "codemirror_mode": {
    "name": "ipython",
    "version": 3
   },
   "file_extension": ".py",
   "mimetype": "text/x-python",
   "name": "python",
   "nbconvert_exporter": "python",
   "pygments_lexer": "ipython3",
   "version": "3.11.3"
  }
 },
 "nbformat": 4,
 "nbformat_minor": 5
}
