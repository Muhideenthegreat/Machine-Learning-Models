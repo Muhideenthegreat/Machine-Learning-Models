{
 "cells": [
  {
   "cell_type": "code",
   "execution_count": 1,
   "id": "09acc3ce",
   "metadata": {},
   "outputs": [
    {
     "name": "stdout",
     "output_type": "stream",
     "text": [
      "313/313 [==============================] - 1s 1ms/step - loss: 0.3630 - accuracy: 0.9033\n",
      "Test accuracy: 0.9032999873161316\n",
      "Model saved.\n"
     ]
    }
   ],
   "source": [
    "import tensorflow as tf\n",
    "from tqdm import trange\n",
    "from tensorflow.keras.datasets import mnist\n",
    "\n",
    "# Load MNIST dataset\n",
    "(x_train, y_train), (x_test, y_test) = mnist.load_data()\n",
    "x_train = x_train.reshape(-1, 784) / 255.0\n",
    "x_test = x_test.reshape(-1, 784) / 255.0\n",
    "y_train = tf.keras.utils.to_categorical(y_train, num_classes=10)\n",
    "y_test = tf.keras.utils.to_categorical(y_test, num_classes=10)\n",
    "\n",
    "# Create the model\n",
    "model = tf.keras.models.Sequential([\n",
    "    tf.keras.layers.Dense(10, activation='softmax', input_shape=(784,))\n",
    "])\n",
    "\n",
    "# Compile the model\n",
    "model.compile(optimizer='sgd', loss='categorical_crossentropy', metrics=['accuracy'])\n",
    "\n",
    "# Train the model\n",
    "model.fit(x_train, y_train, batch_size=100, epochs=10, verbose=0)\n",
    "\n",
    "# Evaluate the model\n",
    "test_loss, test_accuracy = model.evaluate(x_test, y_test)\n",
    "print('Test accuracy:', test_accuracy)\n",
    "\n",
    "# Save the model\n",
    "model.save('reg_model.h5')\n",
    "print('Model saved.')\n",
    "\n",
    "# Load the saved model\n",
    "savedmodel = tf.keras.models.load_model('reg_model.h5')"
   ]
  },
  {
   "cell_type": "code",
   "execution_count": 2,
   "id": "f63e378c",
   "metadata": {},
   "outputs": [
    {
     "name": "stdout",
     "output_type": "stream",
     "text": [
      "Epoch 1/10\n",
      "600/600 [==============================] - 1s 2ms/step - loss: 1.1753 - accuracy: 0.7273\n",
      "Epoch 2/10\n",
      "600/600 [==============================] - 1s 2ms/step - loss: 0.6526 - accuracy: 0.8485\n",
      "Epoch 3/10\n",
      "600/600 [==============================] - 1s 2ms/step - loss: 0.5432 - accuracy: 0.8647\n",
      "Epoch 4/10\n",
      "600/600 [==============================] - 1s 2ms/step - loss: 0.4905 - accuracy: 0.8734\n",
      "Epoch 5/10\n",
      "600/600 [==============================] - 1s 2ms/step - loss: 0.4580 - accuracy: 0.8800\n",
      "Epoch 6/10\n",
      "600/600 [==============================] - 1s 1ms/step - loss: 0.4357 - accuracy: 0.8843\n",
      "Epoch 7/10\n",
      "600/600 [==============================] - 1s 1ms/step - loss: 0.4190 - accuracy: 0.8875\n",
      "Epoch 8/10\n",
      "600/600 [==============================] - 1s 1ms/step - loss: 0.4059 - accuracy: 0.8903\n",
      "Epoch 9/10\n",
      "600/600 [==============================] - 1s 1ms/step - loss: 0.3953 - accuracy: 0.8927\n",
      "Epoch 10/10\n",
      "600/600 [==============================] - 1s 1ms/step - loss: 0.3865 - accuracy: 0.8945\n",
      "313/313 [==============================] - 1s 1ms/step - loss: 0.3644 - accuracy: 0.9018\n",
      "The test is acurate = 0.9017999768257141 \n"
     ]
    }
   ],
   "source": [
    "import tensorflow as tf\n",
    "from tqdm import trange\n",
    "from tensorflow.keras.datasets import mnist\n",
    "\n",
    "#Training and Test Data Along with their corresponding label\n",
    "(x_train, y_train), (x_test, y_test) = mnist.load_data()\n",
    "\n",
    "#reshaping into 784 dimensional imput required by the logistic regression model and then dividing by 255 to convert it to a normal (between 0 and 1) value\n",
    "x_train = x_train.reshape(-1, 784) / 255.0\n",
    "x_test = x_test.reshape(-1, 784) / 255.0\n",
    "\n",
    "#encoding the labels to binary vectors, where 1 indicates the presence of a particular class, and 0 indicates an absence\n",
    "y_train = tf.keras.utils.to_categorical(y_train, num_classes = 10)\n",
    "y_test = tf.keras.utils.to_categorical(y_test, num_classes = 10)\n",
    "\n",
    "#Now we need to create the model- 10 represents number of classes in mnist dataset(0-9), activation function softmax to provide probability distribution all over the classes, and the input expected to be given inside the model\n",
    "model = tf.keras.models.Sequential([\n",
    "    tf.keras.layers.Dense(10, activation = 'softmax', input_shape = [784,])\n",
    "])\n",
    "\n",
    "#Compiling the model with the optimization algorithm (sgd) to train the network, categorical_entropy to calculate loss\n",
    "model.compile(optimizer = 'sgd', loss = 'categorical_crossentropy', metrics = ['accuracy'])\n",
    "\n",
    "#Train the model\n",
    "model.fit(x_train, y_train, batch_size = 100, epochs = 10)\n",
    "\n",
    "#Evaluating trained model with test data\n",
    "total_loss, test_accuracy = model.evaluate(x_test, y_test);\n",
    "print(\"The test is acurate = {0} \".format(test_accuracy))"
   ]
  },
  {
   "cell_type": "code",
   "execution_count": null,
   "id": "d3892943",
   "metadata": {},
   "outputs": [],
   "source": []
  }
 ],
 "metadata": {
  "kernelspec": {
   "display_name": "Python 3 (ipykernel)",
   "language": "python",
   "name": "python3"
  },
  "language_info": {
   "codemirror_mode": {
    "name": "ipython",
    "version": 3
   },
   "file_extension": ".py",
   "mimetype": "text/x-python",
   "name": "python",
   "nbconvert_exporter": "python",
   "pygments_lexer": "ipython3",
   "version": "3.11.3"
  }
 },
 "nbformat": 4,
 "nbformat_minor": 5
}
